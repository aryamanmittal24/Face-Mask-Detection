{
  "cells": [
    {
      "cell_type": "markdown",
      "metadata": {
        "id": "jhCjA9c12WQz"
      },
      "source": [
        "# The Dataset\n",
        "\n",
        "The dataset consisted of 1376 images, 690 face images with masks and 686 without masks. \n"
      ]
    },
    {
      "cell_type": "code",
      "source": [
        "from google.colab import drive\n",
        "drive.mount('/content/drive')\n"
      ],
      "metadata": {
        "colab": {
          "base_uri": "https://localhost:8080/"
        },
        "id": "RBJmle1-2vzb",
        "outputId": "5945d6cd-964e-45a2-ea65-2c925769f130"
      },
      "execution_count": 6,
      "outputs": [
        {
          "output_type": "stream",
          "name": "stdout",
          "text": [
            "Drive already mounted at /content/drive; to attempt to forcibly remount, call drive.mount(\"/content/drive\", force_remount=True).\n"
          ]
        }
      ]
    },
    {
      "cell_type": "code",
      "source": [
        "%cd /content/drive/MyDrive/\n"
      ],
      "metadata": {
        "colab": {
          "base_uri": "https://localhost:8080/"
        },
        "id": "afC2mavp2_NQ",
        "outputId": "a61bc964-9f19-4a30-e060-1ff80e4acb97"
      },
      "execution_count": 7,
      "outputs": [
        {
          "output_type": "stream",
          "name": "stdout",
          "text": [
            "/content/drive/MyDrive\n"
          ]
        }
      ]
    },
    {
      "cell_type": "code",
      "execution_count": 8,
      "metadata": {
        "colab": {
          "base_uri": "https://localhost:8080/"
        },
        "id": "apukFdga2WQ2",
        "outputId": "ff80afc6-633f-4a7f-9255-2f15f542fafb"
      },
      "outputs": [
        {
          "output_type": "stream",
          "name": "stdout",
          "text": [
            "{'with mask': 0, 'without mask': 1}\n",
            "['with mask', 'without mask']\n",
            "[0, 1]\n"
          ]
        }
      ],
      "source": [
        "import cv2,os\n",
        "import tensorflow\n",
        "import tensorflow.keras\n",
        "\n",
        "data_path='dataset'\n",
        "\n",
        "\n",
        "categories=os.listdir(data_path)\n",
        "\n",
        "labels=[i for i in range(len(categories))]\n",
        "\n",
        "labeldict=dict(zip(categories,labels)) \n",
        "\n",
        "print(labeldict)\n",
        "print(categories)\n",
        "print(labels)"
      ]
    },
    {
      "cell_type": "markdown",
      "metadata": {
        "id": "oLH4nLQ92WQ2"
      },
      "source": [
        "# Data Preprocessing\n"
      ]
    },
    {
      "cell_type": "code",
      "execution_count": 9,
      "metadata": {
        "id": "eKSdp9c82WQ4"
      },
      "outputs": [],
      "source": [
        "img_size=100\n",
        "data=[]\n",
        "\n",
        "\n",
        "target=[]\n",
        "\n",
        "\n",
        "for category in categories:\n",
        "    folder_path=os.path.join(data_path,category)\n",
        "\n",
        "\n",
        "    \n",
        "    img_names=os.listdir(folder_path)\n",
        "        \n",
        "    for img_name in img_names:\n",
        "        img_path=os.path.join(folder_path,img_name)\n",
        "        img=cv2.imread(img_path)\n",
        "\n",
        "        try:\n",
        "            gray=cv2.cvtColor(img,cv2.COLOR_BGR2GRAY)           \n",
        "            resized=cv2.resize(gray,(img_size,img_size))\n",
        "            data.append(resized)\n",
        "            target.append(labeldict[category])\n",
        "\n",
        "        except Exception as e:\n",
        "            print('Exception:',e)\n"
      ]
    },
    {
      "cell_type": "code",
      "execution_count": 10,
      "metadata": {
        "id": "AJxhF0ON2WQ5"
      },
      "outputs": [],
      "source": [
        "import numpy as np\n",
        "\n",
        "data=np.array(data)/255.0\n",
        "data=np.reshape(data,(data.shape[0],img_size,img_size,1))\n",
        "\n",
        "target=np.array(target)\n",
        "\n",
        "from keras.utils import np_utils\n",
        "\n",
        "new_target=np_utils.to_categorical(target)"
      ]
    },
    {
      "cell_type": "code",
      "execution_count": 11,
      "metadata": {
        "id": "5BiVuh9g2WQ5"
      },
      "outputs": [],
      "source": [
        "np.save('data',data)\n",
        "\n",
        "np.save('target',new_target)"
      ]
    }
  ],
  "metadata": {
    "kernelspec": {
      "display_name": "Python 3",
      "language": "python",
      "name": "python3"
    },
    "language_info": {
      "codemirror_mode": {
        "name": "ipython",
        "version": 3
      },
      "file_extension": ".py",
      "mimetype": "text/x-python",
      "name": "python",
      "nbconvert_exporter": "python",
      "pygments_lexer": "ipython3",
      "version": "3.7.4"
    },
    "colab": {
      "provenance": [],
      "toc_visible": true
    }
  },
  "nbformat": 4,
  "nbformat_minor": 0
}